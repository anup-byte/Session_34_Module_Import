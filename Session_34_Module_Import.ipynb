{
 "cells": [
  {
   "cell_type": "code",
   "execution_count": 1,
   "id": "ea8dae7d",
   "metadata": {},
   "outputs": [],
   "source": [
    "import os"
   ]
  },
  {
   "cell_type": "code",
   "execution_count": 2,
   "id": "c22e6938",
   "metadata": {},
   "outputs": [
    {
     "data": {
      "text/plain": [
       "'/Users/anupjha/Desktop/Desk/AI KI PAATHSHALA/Python'"
      ]
     },
     "execution_count": 2,
     "metadata": {},
     "output_type": "execute_result"
    }
   ],
   "source": [
    "os.getcwd()"
   ]
  },
  {
   "cell_type": "markdown",
   "id": "a3614c8d",
   "metadata": {},
   "source": [
    "Module is a file containing Python code which can include functions, variables\n",
    "and classes.Module allow you to organise your code into reusable, organized units.\n",
    "We can use modules to break down a large program into smaller, more manageable parts."
   ]
  },
  {
   "cell_type": "markdown",
   "id": "585dcbef",
   "metadata": {},
   "source": [
    "# math_operations.py"
   ]
  },
  {
   "cell_type": "code",
   "execution_count": 3,
   "id": "4020f895",
   "metadata": {},
   "outputs": [],
   "source": [
    "import math_operations"
   ]
  },
  {
   "cell_type": "code",
   "execution_count": 4,
   "id": "e5509d8f",
   "metadata": {},
   "outputs": [
    {
     "data": {
      "text/plain": [
       "5"
      ]
     },
     "execution_count": 4,
     "metadata": {},
     "output_type": "execute_result"
    }
   ],
   "source": [
    "math_operations.add(2, 3)"
   ]
  },
  {
   "cell_type": "code",
   "execution_count": 5,
   "id": "f6e85a7a",
   "metadata": {},
   "outputs": [
    {
     "data": {
      "text/plain": [
       "2"
      ]
     },
     "execution_count": 5,
     "metadata": {},
     "output_type": "execute_result"
    }
   ],
   "source": [
    "math_operations.subtract(10, 8)"
   ]
  },
  {
   "cell_type": "code",
   "execution_count": 6,
   "id": "69affeae",
   "metadata": {},
   "outputs": [
    {
     "data": {
      "text/plain": [
       "20"
      ]
     },
     "execution_count": 6,
     "metadata": {},
     "output_type": "execute_result"
    }
   ],
   "source": [
    "math_operations.multiply(5 , 4)"
   ]
  },
  {
   "cell_type": "code",
   "execution_count": 7,
   "id": "fc51bbc4",
   "metadata": {},
   "outputs": [],
   "source": [
    "import math"
   ]
  },
  {
   "cell_type": "code",
   "execution_count": 8,
   "id": "4e5e3e04",
   "metadata": {},
   "outputs": [
    {
     "data": {
      "text/plain": [
       "7.0"
      ]
     },
     "execution_count": 8,
     "metadata": {},
     "output_type": "execute_result"
    }
   ],
   "source": [
    "math.sqrt(49)"
   ]
  },
  {
   "cell_type": "code",
   "execution_count": 9,
   "id": "ddc5e72b",
   "metadata": {},
   "outputs": [
    {
     "data": {
      "text/plain": [
       "0.8414709848078965"
      ]
     },
     "execution_count": 9,
     "metadata": {},
     "output_type": "execute_result"
    }
   ],
   "source": [
    "math.sin(1)"
   ]
  },
  {
   "cell_type": "code",
   "execution_count": 10,
   "id": "4379558d",
   "metadata": {},
   "outputs": [],
   "source": [
    "import math_operations as m"
   ]
  },
  {
   "cell_type": "code",
   "execution_count": 11,
   "id": "4a940911",
   "metadata": {},
   "outputs": [
    {
     "data": {
      "text/plain": [
       "28"
      ]
     },
     "execution_count": 11,
     "metadata": {},
     "output_type": "execute_result"
    }
   ],
   "source": [
    "m.multiply(4,7)"
   ]
  },
  {
   "cell_type": "code",
   "execution_count": 12,
   "id": "1c3a3541",
   "metadata": {},
   "outputs": [],
   "source": [
    "from math import sqrt"
   ]
  },
  {
   "cell_type": "code",
   "execution_count": 13,
   "id": "3f2f489c",
   "metadata": {},
   "outputs": [
    {
     "data": {
      "text/plain": [
       "9.9498743710662"
      ]
     },
     "execution_count": 13,
     "metadata": {},
     "output_type": "execute_result"
    }
   ],
   "source": [
    "sqrt(99)"
   ]
  },
  {
   "cell_type": "code",
   "execution_count": 14,
   "id": "7cd8ba95",
   "metadata": {},
   "outputs": [
    {
     "ename": "NameError",
     "evalue": "name 'sin' is not defined",
     "output_type": "error",
     "traceback": [
      "\u001b[0;31m---------------------------------------------------------------------------\u001b[0m",
      "\u001b[0;31mNameError\u001b[0m                                 Traceback (most recent call last)",
      "Cell \u001b[0;32mIn[14], line 1\u001b[0m\n\u001b[0;32m----> 1\u001b[0m sin(\u001b[38;5;241m3\u001b[39m)\n",
      "\u001b[0;31mNameError\u001b[0m: name 'sin' is not defined"
     ]
    }
   ],
   "source": [
    "sin(3)"
   ]
  },
  {
   "cell_type": "code",
   "execution_count": 15,
   "id": "4c3499f1",
   "metadata": {},
   "outputs": [
    {
     "data": {
      "text/plain": [
       "0.1411200080598672"
      ]
     },
     "execution_count": 15,
     "metadata": {},
     "output_type": "execute_result"
    }
   ],
   "source": [
    "math.sin(3)"
   ]
  },
  {
   "cell_type": "code",
   "execution_count": 16,
   "id": "53f8ebc2",
   "metadata": {},
   "outputs": [],
   "source": [
    "from math import sqrt, pi"
   ]
  },
  {
   "cell_type": "code",
   "execution_count": 17,
   "id": "f9c0aba3",
   "metadata": {},
   "outputs": [
    {
     "data": {
      "text/plain": [
       "12.449899597988733"
      ]
     },
     "execution_count": 17,
     "metadata": {},
     "output_type": "execute_result"
    }
   ],
   "source": [
    "sqrt(155)"
   ]
  },
  {
   "cell_type": "code",
   "execution_count": 18,
   "id": "2594e16f",
   "metadata": {},
   "outputs": [
    {
     "data": {
      "text/plain": [
       "3.141592653589793"
      ]
     },
     "execution_count": 18,
     "metadata": {},
     "output_type": "execute_result"
    }
   ],
   "source": [
    "pi"
   ]
  },
  {
   "cell_type": "code",
   "execution_count": 19,
   "id": "eab68862",
   "metadata": {},
   "outputs": [
    {
     "ename": "NameError",
     "evalue": "name 'cos' is not defined",
     "output_type": "error",
     "traceback": [
      "\u001b[0;31m---------------------------------------------------------------------------\u001b[0m",
      "\u001b[0;31mNameError\u001b[0m                                 Traceback (most recent call last)",
      "Cell \u001b[0;32mIn[19], line 1\u001b[0m\n\u001b[0;32m----> 1\u001b[0m cos(\u001b[38;5;241m2\u001b[39m)\n",
      "\u001b[0;31mNameError\u001b[0m: name 'cos' is not defined"
     ]
    }
   ],
   "source": [
    "cos(2)"
   ]
  },
  {
   "cell_type": "code",
   "execution_count": 20,
   "id": "86133dcf",
   "metadata": {},
   "outputs": [],
   "source": [
    "from math import sqrt, pi, cos"
   ]
  },
  {
   "cell_type": "code",
   "execution_count": 21,
   "id": "80f9c8fb",
   "metadata": {},
   "outputs": [
    {
     "data": {
      "text/plain": [
       "-0.4161468365471424"
      ]
     },
     "execution_count": 21,
     "metadata": {},
     "output_type": "execute_result"
    }
   ],
   "source": [
    "cos(2)"
   ]
  },
  {
   "cell_type": "code",
   "execution_count": 22,
   "id": "3fc338fe",
   "metadata": {},
   "outputs": [],
   "source": [
    "from math import * # importing all methods from math module hence \n",
    "                   # we can access every method"
   ]
  },
  {
   "cell_type": "code",
   "execution_count": 23,
   "id": "067111fb",
   "metadata": {},
   "outputs": [
    {
     "data": {
      "text/plain": [
       "0.0"
      ]
     },
     "execution_count": 23,
     "metadata": {},
     "output_type": "execute_result"
    }
   ],
   "source": [
    "sin(0)"
   ]
  },
  {
   "cell_type": "code",
   "execution_count": 24,
   "id": "0eba971e",
   "metadata": {},
   "outputs": [
    {
     "data": {
      "text/plain": [
       "3.141592653589793"
      ]
     },
     "execution_count": 24,
     "metadata": {},
     "output_type": "execute_result"
    }
   ],
   "source": [
    "pi"
   ]
  },
  {
   "cell_type": "code",
   "execution_count": 25,
   "id": "c4ecfa0a",
   "metadata": {},
   "outputs": [
    {
     "data": {
      "text/plain": [
       "23.748684174075834"
      ]
     },
     "execution_count": 25,
     "metadata": {},
     "output_type": "execute_result"
    }
   ],
   "source": [
    "sqrt(564)"
   ]
  },
  {
   "cell_type": "code",
   "execution_count": 26,
   "id": "8f12a606",
   "metadata": {},
   "outputs": [
    {
     "name": "stdout",
     "output_type": "stream",
     "text": [
      "This is importing only once in a Session\n"
     ]
    }
   ],
   "source": [
    "import importing"
   ]
  },
  {
   "cell_type": "code",
   "execution_count": 27,
   "id": "b128b879",
   "metadata": {},
   "outputs": [],
   "source": [
    "import importing"
   ]
  },
  {
   "cell_type": "code",
   "execution_count": 28,
   "id": "e0945823",
   "metadata": {},
   "outputs": [],
   "source": [
    "import importing"
   ]
  },
  {
   "cell_type": "code",
   "execution_count": 29,
   "id": "879470d6",
   "metadata": {},
   "outputs": [],
   "source": [
    "import importing"
   ]
  },
  {
   "cell_type": "code",
   "execution_count": 30,
   "id": "94126c57",
   "metadata": {},
   "outputs": [
    {
     "name": "stdout",
     "output_type": "stream",
     "text": [
      "This is importing only once in a Session\n"
     ]
    },
    {
     "name": "stderr",
     "output_type": "stream",
     "text": [
      "/var/folders/3b/ly9h8hy931j_x7b1h6dbr1wc0000gn/T/ipykernel_12543/3454000352.py:2: DeprecationWarning: the imp module is deprecated in favour of importlib and slated for removal in Python 3.12; see the module's documentation for alternative uses\n",
      "  import imp\n"
     ]
    },
    {
     "data": {
      "text/plain": [
       "<module 'importing' from '/Users/anupjha/Desktop/Desk/AI KI PAATHSHALA/Python/importing.py'>"
      ]
     },
     "execution_count": 30,
     "metadata": {},
     "output_type": "execute_result"
    }
   ],
   "source": [
    "import importing\n",
    "import imp\n",
    "imp.reload(importing)"
   ]
  },
  {
   "cell_type": "code",
   "execution_count": 31,
   "id": "3e443898",
   "metadata": {},
   "outputs": [],
   "source": [
    "import math_operations"
   ]
  },
  {
   "cell_type": "code",
   "execution_count": 32,
   "id": "ec8984cb",
   "metadata": {},
   "outputs": [
    {
     "data": {
      "text/plain": [
       "['__builtins__',\n",
       " '__cached__',\n",
       " '__doc__',\n",
       " '__file__',\n",
       " '__loader__',\n",
       " '__name__',\n",
       " '__package__',\n",
       " '__spec__',\n",
       " 'add',\n",
       " 'multiply',\n",
       " 'subtract']"
      ]
     },
     "execution_count": 32,
     "metadata": {},
     "output_type": "execute_result"
    }
   ],
   "source": [
    "dir(math_operations)"
   ]
  },
  {
   "cell_type": "code",
   "execution_count": 33,
   "id": "1c9ad5f7",
   "metadata": {},
   "outputs": [],
   "source": [
    "import math"
   ]
  },
  {
   "cell_type": "code",
   "execution_count": 34,
   "id": "a16a982a",
   "metadata": {},
   "outputs": [
    {
     "data": {
      "text/plain": [
       "['__doc__',\n",
       " '__file__',\n",
       " '__loader__',\n",
       " '__name__',\n",
       " '__package__',\n",
       " '__spec__',\n",
       " 'acos',\n",
       " 'acosh',\n",
       " 'asin',\n",
       " 'asinh',\n",
       " 'atan',\n",
       " 'atan2',\n",
       " 'atanh',\n",
       " 'cbrt',\n",
       " 'ceil',\n",
       " 'comb',\n",
       " 'copysign',\n",
       " 'cos',\n",
       " 'cosh',\n",
       " 'degrees',\n",
       " 'dist',\n",
       " 'e',\n",
       " 'erf',\n",
       " 'erfc',\n",
       " 'exp',\n",
       " 'exp2',\n",
       " 'expm1',\n",
       " 'fabs',\n",
       " 'factorial',\n",
       " 'floor',\n",
       " 'fmod',\n",
       " 'frexp',\n",
       " 'fsum',\n",
       " 'gamma',\n",
       " 'gcd',\n",
       " 'hypot',\n",
       " 'inf',\n",
       " 'isclose',\n",
       " 'isfinite',\n",
       " 'isinf',\n",
       " 'isnan',\n",
       " 'isqrt',\n",
       " 'lcm',\n",
       " 'ldexp',\n",
       " 'lgamma',\n",
       " 'log',\n",
       " 'log10',\n",
       " 'log1p',\n",
       " 'log2',\n",
       " 'modf',\n",
       " 'nan',\n",
       " 'nextafter',\n",
       " 'perm',\n",
       " 'pi',\n",
       " 'pow',\n",
       " 'prod',\n",
       " 'radians',\n",
       " 'remainder',\n",
       " 'sin',\n",
       " 'sinh',\n",
       " 'sqrt',\n",
       " 'tan',\n",
       " 'tanh',\n",
       " 'tau',\n",
       " 'trunc',\n",
       " 'ulp']"
      ]
     },
     "execution_count": 34,
     "metadata": {},
     "output_type": "execute_result"
    }
   ],
   "source": [
    "dir(math)"
   ]
  },
  {
   "cell_type": "code",
   "execution_count": 35,
   "id": "839531a3",
   "metadata": {},
   "outputs": [],
   "source": [
    "import example_module"
   ]
  },
  {
   "cell_type": "code",
   "execution_count": 36,
   "id": "5a461656",
   "metadata": {},
   "outputs": [
    {
     "name": "stdout",
     "output_type": "stream",
     "text": [
      "Greeting from AI Ki Pathshala for Shanker and Ruchi as Both of you will do wonders in life\n"
     ]
    }
   ],
   "source": [
    "example_module.greet()"
   ]
  },
  {
   "cell_type": "code",
   "execution_count": 37,
   "id": "140041b5",
   "metadata": {},
   "outputs": [
    {
     "data": {
      "text/plain": [
       "['Artificial Intelligence', 'Machine Learning', 'Python']"
      ]
     },
     "execution_count": 37,
     "metadata": {},
     "output_type": "execute_result"
    }
   ],
   "source": [
    "example_module.get_course()"
   ]
  },
  {
   "cell_type": "code",
   "execution_count": 38,
   "id": "b29db860",
   "metadata": {},
   "outputs": [],
   "source": [
    "import math\n",
    "import datetime\n",
    "import os\n",
    "\n",
    "from datetime import datetime\n",
    "from math import pi\n"
   ]
  },
  {
   "cell_type": "code",
   "execution_count": 39,
   "id": "b8b2c9b8",
   "metadata": {},
   "outputs": [],
   "source": [
    "from datetime import datetime"
   ]
  },
  {
   "cell_type": "code",
   "execution_count": 40,
   "id": "dc750ff9",
   "metadata": {},
   "outputs": [],
   "source": [
    "from example_module import get_course"
   ]
  },
  {
   "cell_type": "code",
   "execution_count": 41,
   "id": "aaf23550",
   "metadata": {},
   "outputs": [
    {
     "data": {
      "text/plain": [
       "<function example_module.get_course()>"
      ]
     },
     "execution_count": 41,
     "metadata": {},
     "output_type": "execute_result"
    }
   ],
   "source": [
    "get_course"
   ]
  },
  {
   "cell_type": "markdown",
   "id": "f9eaec71",
   "metadata": {},
   "source": [
    "    └── MainProject\n",
    "    ├── Pkg1\n",
    "    │   ├── m1.py (function11 and function12 defined here)\n",
    "    │   └── m2.py (function21 and function22 defined here)\n",
    "    └── Pkg2\n",
    "        ├── m3.py (function31 and function32 defined here)\n",
    "        ├── m4.py (function41 and function42 defined here)\n",
    "        └── SubPkg2\n",
    "            └── m5.py (function411 and function422 defined here)"
   ]
  },
  {
   "cell_type": "markdown",
   "id": "09e8ea58",
   "metadata": {},
   "source": [
    "# Absolute Import\n",
    "\n",
    "from Pkg1 import m1\n",
    "\n",
    "from Pkg1.m2 import function21\n",
    "\n",
    "from Pkg2.SubPkg2.m5 import function411\n",
    "\n"
   ]
  },
  {
   "cell_type": "code",
   "execution_count": 43,
   "id": "3d8995a2",
   "metadata": {},
   "outputs": [],
   "source": [
    "from datetime import datetime"
   ]
  }
 ],
 "metadata": {
  "kernelspec": {
   "display_name": "Python 3 (ipykernel)",
   "language": "python",
   "name": "python3"
  },
  "language_info": {
   "codemirror_mode": {
    "name": "ipython",
    "version": 3
   },
   "file_extension": ".py",
   "mimetype": "text/x-python",
   "name": "python",
   "nbconvert_exporter": "python",
   "pygments_lexer": "ipython3",
   "version": "3.11.4"
  }
 },
 "nbformat": 4,
 "nbformat_minor": 5
}
